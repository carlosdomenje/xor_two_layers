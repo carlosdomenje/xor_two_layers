{
 "cells": [
  {
   "cell_type": "markdown",
   "metadata": {},
   "source": [
    "# Problema 1 - Deep Learning\n",
    "\n",
    "## Resolucion de una XOR de 2 entradas con 1 layer y 2 neuronas.\n",
    "\n",
    "1. Inicializar los w y b como U(0,1) -> ( 9 Variables para el ejemplo )\n",
    "2. for epoch in range(n-epochs)\n",
    "    - for Xi in input: \n",
    "        1. FORWARD\n",
    "        2. ERROR\n",
    "        3. BACKPROPAGATION\n",
    "        4. W Replacement\n",
    "3. Calcular MSE: "
   ]
  },
  {
   "cell_type": "code",
   "execution_count": 1,
   "metadata": {},
   "outputs": [],
   "source": [
    "import numpy as np\n",
    "import matplotlib\n",
    "import matplotlib.pyplot as plt\n"
   ]
  },
  {
   "cell_type": "code",
   "execution_count": 2,
   "metadata": {},
   "outputs": [],
   "source": [
    "# Inicializar los w y b con una distribucion uniforme (0,1) de forma aleatoria.\n",
    "\n",
    "from random import random\n",
    "\n",
    "x_in = [[0,0],[0,1],[1,0],[1,1]]\n",
    "y_out = [0,1,1,0]\n",
    "y_hat = []\n",
    "err = []\n",
    "np.random.seed(2)\n",
    "\n",
    "w = np.random.rand(6)\n",
    "b = np.random.rand(3)\n",
    "n_epochs = 100\n",
    "alpha = 0.01\n",
    "\n",
    "mse = []"
   ]
  },
  {
   "cell_type": "code",
   "execution_count": 3,
   "metadata": {},
   "outputs": [],
   "source": [
    "# Funcion de activacion Sigmoid\n",
    "\n",
    "def f_sigmoid(x):\n",
    "    return 1/(1 + np.exp(-x))"
   ]
  },
  {
   "cell_type": "code",
   "execution_count": 4,
   "metadata": {},
   "outputs": [],
   "source": [
    "# Fordward\n",
    "def forward_propagation(x,b):\n",
    "    z1 = np.dot(x[0],w[0]) + np.dot(x[1],w[1]) + b[0]\n",
    "    z2 = np.dot(x[0],w[2]) + np.dot(x[1],w[3]) + b[1]\n",
    "    a11= f_sigmoid(z1)\n",
    "    a12= f_sigmoid(z2)\n",
    "    z3 = np.dot(a11,w[4]) + np.dot(a12,w[5]) + b[2]\n",
    "\n",
    "    return a11,a12,z3"
   ]
  },
  {
   "cell_type": "code",
   "execution_count": 5,
   "metadata": {},
   "outputs": [],
   "source": [
    "# Backward prop\n",
    "\n",
    "def backward_propagation(y_h, y, a11, a12,w,x):\n",
    "    err = -2*(y-y_h)\n",
    "    dw11_1 = err*w[4]*a11*(1-a11)*x[0]\n",
    "    dw12_1 = err*w[5]*a12*(1-a12)*x[1]\n",
    "    dw21_1 = err*w[4]*a11*(1-a11)*x[1]\n",
    "    dw22_1 = err*w[5]*a12*(1-a12)*x[0]\n",
    "    dw11_2 = err*a11\n",
    "    dw12_2 = err*a12\n",
    "    db1_1 = err*w[4]*a11*(1-a11)\n",
    "    db2_1 = err*w[5]*a12*(1-a12)\n",
    "    db1_2 = err\n",
    "    return dw11_1,dw12_1,dw21_1,dw22_1,dw11_2,dw12_2,db1_1,db2_1,db1_2"
   ]
  },
  {
   "cell_type": "code",
   "execution_count": 6,
   "metadata": {},
   "outputs": [
    {
     "data": {
      "text/plain": [
       "Text(0, 0.5, 'Loss value')"
      ]
     },
     "execution_count": 6,
     "metadata": {},
     "output_type": "execute_result"
    },
    {
     "data": {
      "image/png": "[encoded data removed]",
      "text/plain": [
       "<Figure size 432x288 with 1 Axes>"
      ]
     },
     "metadata": {
      "needs_background": "light"
     },
     "output_type": "display_data"
    }
   ],
   "source": [
    "# Implementacion de los bucles\n",
    "\n",
    "for epoch in range(n_epochs):\n",
    "    for i,x in enumerate(x_in):\n",
    "        a11,a12,y_hat = forward_propagation(x,b)\n",
    "        err.append(y_out[i] - y_hat)\n",
    "        dw11_1,dw12_1,dw21_1,dw22_1,dw11_2,dw12_2,db1_1,db2_1,db1_2 = backward_propagation(y_hat,y_out[i],a11,a12,w,x) \n",
    "        w[0] = w[0] - (alpha*dw11_1)\n",
    "        w[1] = w[1] - (alpha*dw12_1)\n",
    "        w[2] = w[2] - (alpha*dw21_1)\n",
    "        w[3] = w[3] - (alpha*dw22_1)\n",
    "        w[4] = w[4] - (alpha*dw11_2)\n",
    "        w[5] = w[5] - (alpha*dw11_2)\n",
    "        b[0] = b[0] - (alpha*db1_1)\n",
    "        b[1] = b[1] - (alpha*db2_1)\n",
    "        b[2] = b[2] - (alpha*db1_2)\n",
    "        \n",
    "    mse.append(0.25*np.sum(np.power(err,2)))\n",
    "    err = []\n",
    "    \n",
    "plt.plot(mse)\n",
    "plt.xlabel(\"EPOCHS\")\n",
    "plt.ylabel(\"MSE\")\n"
   ]
  }
 ],
 "metadata": {
  "kernelspec": {
   "display_name": "Python 3.9.13 ('tp-ia')",
   "language": "python",
   "name": "python3"
  },
  "language_info": {
   "codemirror_mode": {
    "name": "ipython",
    "version": 3
   },
   "file_extension": ".py",
   "mimetype": "text/x-python",
   "name": "python",
   "nbconvert_exporter": "python",
   "pygments_lexer": "ipython3",
   "version": "3.9.13"
  },
  "orig_nbformat": 4,
  "vscode": {
   "interpreter": {
    "hash": "ff0b56c2c11e01fc93064e55eb1d315134029652b3f23c7e2f48e46ed7de5886"
   }
  }
 },
 "nbformat": 4,
 "nbformat_minor": 2
}
